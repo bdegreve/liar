{
 "cells": [
  {
   "cell_type": "markdown",
   "metadata": {},
   "source": [
    "# Black Body Spectrum\n",
    "\n",
    "The radiance spectrum of a [Black-body](https://en.wikipedia.org/wiki/Black_body) can\n",
    "be found using [Plank's law](https://en.wikipedia.org/wiki/Planck%27s_law#Different_forms):\n",
    "\n",
    "$L_{\\lambda}(T,\\lambda) = \\frac{2 h c^2}{\\lambda^5} \\frac{1}{\\exp{\\frac{hc}{k_{B}T\\lambda}}-1} \\quad \\left[\\mathrm{\\frac{W}{sr \\cdot m^2 \\cdot m}}\\right]$\n",
    "\n",
    "$L_{\\nu}(T,\\nu) = \\frac{2 h \\nu^3}{c^2} \\frac{1}{\\exp{\\frac{h\\nu}{k_{B}T}}-1} \\quad \\left[\\mathrm{\\frac{W}{sr \\cdot m^2 \\cdot Hz}}\\right]$\n",
    "\n",
    "with:\n",
    "\n",
    "- $T$ = temperature in Kelvin\n",
    "- $h$ = $6.62607015 \\times 10^{-34} \\mathrm{\\frac{J}{Hz}}$, the Planck constant\n",
    "- $c$ = $299792458 \\mathrm{\\frac{m}{s}}$, the speed of light\n",
    "- $k_B$ = $1.380649 \\times 10^{-23} \\mathrm{\\frac{J}{K}}$, the Boltzmann constant\n",
    "- $\\lambda$ = the wavelength of light\n",
    "- $\\nu$ = $\\frac{c}{\\lambda}$, the frequency of light\n",
    "\n",
    "Notice how $L_{\\lambda}(T,\\lambda) = \\frac{c}{\\lambda^2} L_{\\nu}(T,\\nu)$ because one is [expressed in terms per $d\\lambda$, while the other per $d\\nu$](https://en.wikipedia.org/wiki/Planck%27s_law#Correspondence_between_spectral_variable_forms).\n",
    "\n",
    "**Here, we continue with $L_{\\lambda}(T,\\lambda)$**.\n",
    "\n",
    "The wavelength of the peak value can be found using [Wien's displacement law](https://en.wikipedia.org/wiki/Black-body_radiation#Wien's_displacement_law):\n",
    "\n",
    "$\\lambda_\\text{peak} = \\frac{b}{T}$\n",
    "\n",
    "with:\n",
    "\n",
    "- $b$ = $2.897771955 \\times 10^{-3} \\mathrm{\\frac{m}{K}}$, Wien's displacement constant\n",
    "\n",
    "References:\n",
    "\n",
    "- https://en.wikipedia.org/wiki/Black-body_radiation\n",
    "- https://phys.libretexts.org/Bookshelves/University_Physics/Book%3A_University_Physics_(OpenStax)/University_Physics_III_-_Optics_and_Modern_Physics_(OpenStax)/06%3A_Photons_and_Matter_Waves/6.02%3A_Blackbody_Radiation\n",
    "- https://physics.info/planck/"
   ]
  },
  {
   "cell_type": "code",
   "execution_count": null,
   "metadata": {},
   "outputs": [],
   "source": [
    "import matplotlib.pyplot as plt\n",
    "import numpy as np\n",
    "\n",
    "h = 6.62607015e-34\n",
    "c = 299792458\n",
    "kB = 1.380649e-23\n",
    "b = 2.897771955e-3\n",
    "\n",
    "\n",
    "def radiance(temperature, wavelength):\n",
    "    return (\n",
    "        2\n",
    "        * h\n",
    "        * c**2\n",
    "        / (wavelength**5 * (np.exp(h * c / (kB * temperature * wavelength)) - 1))\n",
    "    )\n",
    "\n",
    "\n",
    "def irradiance(temperature, wavelength):\n",
    "    return 4 * np.pi * radiance(temperature, wavelength)\n",
    "\n",
    "\n",
    "def peakWavelength(temperature):\n",
    "    return b / temperature\n",
    "\n",
    "\n",
    "temperatures = [3000, 4000, 5000, 6000, 6500, 7000]\n",
    "wavelengths = np.arange(200e-9, 1000e-9, 10e-9)\n",
    "\n",
    "peakWavelengths = np.array([peakWavelength(T) for T in temperatures])\n",
    "peakValues = np.array([irradiance(T, peakWavelength(T)) for T in temperatures])\n",
    "\n",
    "plt.plot(\n",
    "    peakWavelengths,\n",
    "    peakValues / 1e12,\n",
    "    label=f\"peak\",\n",
    "    color=\"black\",\n",
    "    marker=\"o\",\n",
    "    linestyle=\"dashed\",\n",
    ")\n",
    "for T in temperatures:\n",
    "    plt.plot(wavelengths, irradiance(T, wavelengths) / 1e12, label=f\"{T}K\")\n",
    "plt.xlabel(\"Wavelength\")\n",
    "plt.ylabel(\"Irradiance [kW/m^2/nm]\")\n",
    "plt.legend()\n",
    "plt.show()"
   ]
  },
  {
   "cell_type": "markdown",
   "metadata": {},
   "source": [
    "## Normalized Spectra\n",
    "\n",
    "The `BlackBody` spectrum in `liar` is normalized so that the peak values are always one."
   ]
  },
  {
   "cell_type": "code",
   "execution_count": null,
   "metadata": {},
   "outputs": [],
   "source": [
    "from matplotlib.colors import TABLEAU_COLORS\n",
    "\n",
    "import liar\n",
    "\n",
    "observer = liar.Observer.standard()\n",
    "wavelengths2 = np.array(observer.wavelengths)\n",
    "\n",
    "spectra = [liar.spectra.BlackBody(T) for T in temperatures]\n",
    "peakWavelengths = np.array([s.peakWavelength for s in spectra])\n",
    "peakValues = np.array([s(w) for s, w in zip(spectra, peakWavelengths)])\n",
    "colors = list(TABLEAU_COLORS)[: len(temperatures)]\n",
    "\n",
    "plt.plot(\n",
    "    peakWavelengths,\n",
    "    peakValues,\n",
    "    label=f\"peak\",\n",
    "    color=\"black\",\n",
    "    marker=\"o\",\n",
    "    linestyle=\"dashed\",\n",
    ")\n",
    "for T, s, color in zip(temperatures, spectra, colors):\n",
    "    L = radiance(T, wavelengths)\n",
    "    L /= np.max(L)\n",
    "    plt.plot(wavelengths, L, label=f\"{T}K\", color=color, linestyle=\"dotted\")\n",
    "\n",
    "    Ls = np.array([s(w) for w in wavelengths2])\n",
    "    plt.plot(wavelengths2, Ls, label=f\"{T}K\", color=color)\n",
    "plt.xlabel(\"Wavelength\")\n",
    "plt.ylabel(\"Irradiance [kW/m^2/nm]\")\n",
    "plt.legend()\n",
    "plt.show()"
   ]
  },
  {
   "cell_type": "markdown",
   "metadata": {},
   "source": [
    "The `luminance` values of these spectra will be less than one:"
   ]
  },
  {
   "cell_type": "code",
   "execution_count": null,
   "metadata": {},
   "outputs": [],
   "source": [
    "temps = np.arange(1000, 10000, 200)\n",
    "plt.plot(\n",
    "    temps,\n",
    "    [liar.spectra.BlackBody(float(T)).luminance for T in temps],\n",
    "    label=f\"luminance\",\n",
    "    color=\"black\",\n",
    ")\n",
    "plt.xlabel(\"Temperature [K]\")\n",
    "plt.ylabel(\"Luminance [cd/m^2]\")\n",
    "plt.legend()\n",
    "plt.show()\n",
    "\n",
    "for T, s in zip(temperatures, spectra):\n",
    "    print(f\"{T}K: y={s.luminance}, peak={s.peakWavelength / 1e-9}nm\")"
   ]
  },
  {
   "cell_type": "markdown",
   "metadata": {},
   "source": [
    "Maximum luminance is achieved at temperature 5200K"
   ]
  },
  {
   "cell_type": "code",
   "execution_count": null,
   "metadata": {},
   "outputs": [],
   "source": [
    "s = liar.spectra.BlackBody(5200)\n",
    "print(f\"5200K: y={s.luminance}, peak={s.peakWavelength / 1e-9}nm\")"
   ]
  }
 ],
 "metadata": {
  "kernelspec": {
   "display_name": "env",
   "language": "python",
   "name": "python3"
  },
  "language_info": {
   "name": "python",
   "version": "3.10.12"
  }
 },
 "nbformat": 4,
 "nbformat_minor": 2
}
