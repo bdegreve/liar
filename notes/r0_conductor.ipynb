{
 "cells": [
  {
   "cell_type": "markdown",
   "metadata": {},
   "source": [
    "# Builtin Complex Refractive Indices of Conductor Materials\n",
    "\n",
    "We have tabulated complex refractive indices $\\vec{n} = n + j\\kappa$ for a few\n",
    "conductor materials in the `data/spd` directory, with $n$ is the refractive\n",
    "index and $\\kappa$ is the absorption coefficient or extinction coefficient.\n",
    "\n",
    "You can load $n$ and $\\kappa$ using `load_builtin_refractive_index`:"
   ]
  },
  {
   "cell_type": "code",
   "execution_count": null,
   "metadata": {},
   "outputs": [],
   "source": [
    "import matplotlib.pyplot as plt\n",
    "import numpy as np\n",
    "\n",
    "import liar\n",
    "from liar.tools.spd import load_builtin_refractive_index\n",
    "\n",
    "n, k = load_builtin_refractive_index(\"Au\")\n",
    "ww = np.array(n.wavelengths)\n",
    "nn = np.array(n.values)\n",
    "kk = np.array(k.values)\n",
    "\n",
    "plt.plot(ww, nn, label=\"n\")\n",
    "plt.plot(ww, kk, label=\"k\")\n",
    "plt.xlabel(\"Wavelength\")\n",
    "plt.ylabel(\"Value\")\n",
    "plt.legend()\n",
    "plt.show()"
   ]
  },
  {
   "cell_type": "markdown",
   "metadata": {},
   "source": [
    "From this, we can use the Fresnel equations to compute the reflectance at\n",
    "normal indicence:\n",
    "\n",
    "$R_0 = \\frac{n^2 + \\kappa^2 - 2n + 1}{n^2 + \\kappa^2 + 2n + 1}$\n",
    "\n",
    "This formula is implemented in `R0Conductor`:"
   ]
  },
  {
   "cell_type": "code",
   "execution_count": null,
   "metadata": {},
   "outputs": [],
   "source": [
    "def R0(n, k):\n",
    "    return (n * n + k * k - 2 * n + 1) / (n * n + k * k + 2 * n + 1)\n",
    "\n",
    "\n",
    "r0 = R0(nn, kk)\n",
    "\n",
    "r = liar.spectra.R0Conductor(n, k)\n",
    "rr = [r(w) for w in ww]\n",
    "\n",
    "plt.plot(ww, r0, label=\"r0\")\n",
    "plt.plot(ww, rr, label=\"r\")\n",
    "plt.xlabel(\"Wavelength\")\n",
    "plt.ylabel(\"Value\")\n",
    "plt.legend()\n",
    "plt.show()"
   ]
  },
  {
   "cell_type": "markdown",
   "metadata": {},
   "source": [
    "If we resample `n`, `k` and `r` on finer wavelength resolution (say the\n",
    "wavelengths $\\lambda$ = `ws` of the standard observer), we get a bit of a different result,\n",
    "because it's `n` and `k` that are linearly interpolated, not `r`!\n",
    "\n",
    "It's also has a smaller bandwith."
   ]
  },
  {
   "cell_type": "code",
   "execution_count": null,
   "metadata": {},
   "outputs": [],
   "source": [
    "observer = liar.Observer.standard()\n",
    "ws = np.array(observer.wavelengths)\n",
    "\n",
    "ns, ks = n.resample(ws), k.resample(ws)\n",
    "\n",
    "nns = np.array(ns.values)\n",
    "kks = np.array(ks.values)\n",
    "r0s = R0(nns, kks)\n",
    "\n",
    "rs = liar.spectra.R0Conductor(ns, ks)\n",
    "rrs = [rs(w) for w in ws]\n",
    "\n",
    "plt.plot(ww, rr, label=\"r\")\n",
    "plt.plot(ws, r0s, label=\"r0s\")\n",
    "plt.plot(ws, rrs, label=\"rs\")\n",
    "plt.xlabel(\"Wavelength\")\n",
    "plt.ylabel(\"Value\")\n",
    "plt.legend()\n",
    "plt.show()"
   ]
  },
  {
   "cell_type": "markdown",
   "metadata": {},
   "source": [
    "## Tristimulus values\n",
    "\n",
    "We can also compute some tristimulus values. Here's the sensitivities\n",
    "$x$, $y$ and $z$ of the standard observer:"
   ]
  },
  {
   "cell_type": "code",
   "execution_count": null,
   "metadata": {},
   "outputs": [],
   "source": [
    "xs, ys, zs = [np.array(ss) for ss in zip(*observer.sensitivities)]\n",
    "plt.plot(ws, xs, label=\"x\", color=\"red\")\n",
    "plt.plot(ws, ys, label=\"y\", color=\"green\")\n",
    "plt.plot(ws, zs, label=\"z\", color=\"blue\")\n",
    "plt.xlabel(\"Wavelength\")\n",
    "plt.ylabel(\"Sensitivity\")\n",
    "plt.legend()\n",
    "plt.show()"
   ]
  },
  {
   "cell_type": "markdown",
   "metadata": {},
   "source": [
    "If we multiply these with the spectrum of our reflectance $r$, we get:"
   ]
  },
  {
   "cell_type": "code",
   "execution_count": null,
   "metadata": {},
   "outputs": [],
   "source": [
    "rxs, rys, rzs = rrs * np.array([xs, ys, zs])\n",
    "\n",
    "plt.plot(ws, rxs, label=\"r*x\", color=\"red\")\n",
    "plt.plot(ws, rys, label=\"r*y\", color=\"green\")\n",
    "plt.plot(ws, rzs, label=\"r*z\", color=\"blue\")\n",
    "plt.xlabel(\"Wavelength\")\n",
    "plt.ylabel(\"Value\")\n",
    "plt.legend()\n",
    "plt.show()"
   ]
  },
  {
   "cell_type": "markdown",
   "metadata": {},
   "source": [
    "If we integrate these curves, we get the tristimulus values $R_x, R_y, R_z$:\n",
    "\n",
    "We use the trapezoidal rule, which corresponds to summing the triangles under\n",
    "each sample point, with triangle bases $\\Delta \\lambda_k$ between the previous and\n",
    "next sample points (except for the first and last one that only use half of\n",
    "the base), so that we get:\n",
    "\n",
    "$R_x = \\int_{\\lambda_{\\text{min}}}^{\\lambda_{\\text{max}}}{rx} = \\sum_{k=0}^{n-1} r_k x_k \\frac{\\Delta \\lambda_k}{2}$\n",
    "\n",
    "with $\\Delta \\lambda_k = \\begin{cases}\n",
    "\\lambda_{k+1} - \\lambda_{k-1} \\\\\n",
    "\\lambda_1-\\lambda_0 & \\text{if } k=0\\\\\n",
    "\\lambda_{n-1}-\\lambda_{n-2} & \\text{if } k=n-1\\\\\n",
    "\\end{cases}$"
   ]
  },
  {
   "cell_type": "code",
   "execution_count": null,
   "metadata": {},
   "outputs": [],
   "source": [
    "dws = np.concatenate([[ws[1] - ws[0]], ws[2:] - ws[:-2], [ws[-1] - ws[-2]]])\n",
    "\n",
    "rx = np.sum(rxs * dws / 2)\n",
    "ry = np.sum(rys * dws / 2)\n",
    "rz = np.sum(rzs * dws / 2)\n",
    "print(rx, ry, rz)"
   ]
  },
  {
   "cell_type": "markdown",
   "metadata": {},
   "source": [
    "This correlates with the built-in means to evaluate the tristimulus values.\n",
    "The last one is a bit different, as it is based on a linear interpolation of `rr`\n",
    "instead of `nn` and `kk`."
   ]
  },
  {
   "cell_type": "code",
   "execution_count": null,
   "metadata": {},
   "outputs": [],
   "source": [
    "print(f\"{r.tristimulus=}\")\n",
    "print(f\"{observer.tristimulus(rrs)=}\")\n",
    "print(f\"{observer.tristimulus(ww, rr)=}\")"
   ]
  },
  {
   "cell_type": "markdown",
   "metadata": {},
   "source": [
    "Calculating the tristimulus values of the reflectance directly based on the\n",
    "tristimulus values of $n$ and $\\kappa$ is not as accurate, but still a good\n",
    "approximation:"
   ]
  },
  {
   "cell_type": "code",
   "execution_count": null,
   "metadata": {},
   "outputs": [],
   "source": [
    "print(f\"{n.tristimulus=}\")\n",
    "print(f\"{k.tristimulus=}\")\n",
    "print([R0(n_, k_) for n_, k_ in zip(n.tristimulus, k.tristimulus)])"
   ]
  }
 ],
 "metadata": {
  "kernelspec": {
   "display_name": "env",
   "language": "python",
   "name": "python3"
  },
  "language_info": {
   "codemirror_mode": {
    "name": "ipython",
    "version": 3
   },
   "file_extension": ".py",
   "mimetype": "text/x-python",
   "name": "python",
   "nbconvert_exporter": "python",
   "pygments_lexer": "ipython3",
   "version": "3.11.4"
  }
 },
 "nbformat": 4,
 "nbformat_minor": 2
}
