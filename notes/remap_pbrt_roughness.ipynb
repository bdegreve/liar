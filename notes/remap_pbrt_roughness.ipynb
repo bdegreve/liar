{
 "cells": [
  {
   "cell_type": "markdown",
   "metadata": {},
   "source": [
    "# Remapping PBRT roughness to LiAR roughness\n",
    "\n",
    "PBRT remaps roughness to alpha as following [1]:\n",
    "\n",
    "[1] https://github.com/mmp/pbrt-v3/blob/13d871faae88233b327d04cda24022b8bb0093ee/src/core/microfacet.h#L83-L87"
   ]
  },
  {
   "cell_type": "code",
   "execution_count": null,
   "metadata": {},
   "outputs": [],
   "source": [
    "import numpy as np\n",
    "import matplotlib.pyplot as plt\n",
    "\n",
    "pbrt_roughness = np.arange(\n",
    "    0.001, 1, 0.001, dtype=np.float32\n",
    ")  # we start from 0.001 to avoid log(0)\n",
    "\n",
    "x = np.log(pbrt_roughness)\n",
    "pbrt_alpha = (\n",
    "    1.62142 + 0.819955 * x + 0.1734 * x**2 + 0.0171201 * x**3 + 0.000640711 * x**4\n",
    ")\n",
    "\n",
    "fig, ax = plt.subplots()\n",
    "ax.plot(pbrt_roughness, pbrt_alpha, label=\"pbrt_alpha\")\n",
    "ax.set_xlabel(\"PBRT roughness\")\n",
    "ax.set_ylabel(\"alpha\")\n",
    "ax.legend()\n",
    "plt.show()\n",
    "\n",
    "print(f\"min: {pbrt_alpha[0]}\")"
   ]
  },
  {
   "cell_type": "markdown",
   "metadata": {},
   "source": [
    "According to [2], this seems to be a fit of `1.62142 * sqrt(pbrt_roughness)`\n",
    "\n",
    "[2] https://computergraphics.stackexchange.com/q/12168"
   ]
  },
  {
   "cell_type": "code",
   "execution_count": null,
   "metadata": {},
   "outputs": [],
   "source": [
    "fig, ax = plt.subplots()\n",
    "ax.plot(pbrt_roughness, pbrt_alpha, label=\"pbrt_alpha\")\n",
    "ax.plot(\n",
    "    pbrt_roughness,\n",
    "    1.62142 * np.sqrt(pbrt_roughness),\n",
    "    label=\"1.62142 * sqrt(pbrt_roughness)\",\n",
    ")\n",
    "ax.set_xlabel(\"PBRT roughness\")\n",
    "ax.set_ylabel(\"alpha\")\n",
    "ax.legend()\n",
    "plt.show()\n",
    "\n",
    "print(f\"min: {1.62142 * np.sqrt(np.min(pbrt_roughness))}\")"
   ]
  },
  {
   "cell_type": "markdown",
   "metadata": {},
   "source": [
    "It's not even a good fit, as we can do much better:"
   ]
  },
  {
   "cell_type": "code",
   "execution_count": null,
   "metadata": {},
   "outputs": [],
   "source": [
    "from numpy.polynomial import Polynomial\n",
    "\n",
    "domain = window = [min(x), max(x)]\n",
    "\n",
    "p = Polynomial.fit(\n",
    "    x, 1.62142 * np.sqrt(pbrt_roughness), 4, domain=domain, window=window\n",
    ")\n",
    "print(p)\n",
    "\n",
    "fig, ax = plt.subplots()\n",
    "# ax.plot(pbrt_roughness, pbrt_alpha, label=f\"pbrt_alpha\")\n",
    "ax.plot(\n",
    "    pbrt_roughness,\n",
    "    1.62142 * np.sqrt(pbrt_roughness),\n",
    "    label=\"1.62142 * sqrt(pbrt_roughness)\",\n",
    ")\n",
    "ax.plot(pbrt_roughness, p(x), label=\"4th degree polyomial fit\")\n",
    "ax.set_xlabel(\"PBRT roughness\")\n",
    "ax.set_ylabel(\"alpha\")\n",
    "ax.legend()\n",
    "plt.show()\n",
    "\n",
    "print(f\"min: {p(x[0])}\")"
   ]
  },
  {
   "cell_type": "markdown",
   "metadata": {},
   "source": [
    "But LiAR actually uses the common mapping `alpha = liar_roughness ** 2` [3,4,5]\n",
    "\n",
    "So we take PBRT's RoughnessToAlpha, take the square root of that, and we fit a new polynomial:\n",
    "\n",
    "- [3] B. Burley 2012, Physically Based Shading at Disney\n",
    "- [4] http://graphicrants.blogspot.com/2013/08/specular-brdf-reference.html\n",
    "- [5] B. Karis 2013, Real Shading in Unreal Engine 4"
   ]
  },
  {
   "cell_type": "code",
   "execution_count": null,
   "metadata": {},
   "outputs": [],
   "source": [
    "from functools import reduce\n",
    "\n",
    "pbrt_to_liar_roughness = np.sqrt(pbrt_alpha)\n",
    "\n",
    "p = Polynomial.fit(x, pbrt_to_liar_roughness, 4, domain=domain, window=window)\n",
    "print(p)\n",
    "\n",
    "fig, ax = plt.subplots()\n",
    "ax.plot(pbrt_roughness, pbrt_to_liar_roughness, label=f\"pbrt_to_liar_roughness\")\n",
    "ax.plot(pbrt_roughness, p(x), label=\"4th degree polyomial fit\")\n",
    "ax.set_xlabel(\"PBRT roughness\")\n",
    "ax.set_ylabel(\"LiAR roughness\")\n",
    "ax.legend()\n",
    "plt.show()\n",
    "\n",
    "print(f\"min pbrt_to_liar_roughness: {pbrt_to_liar_roughness[:5]}\")\n",
    "print(f\"min fit: {p(x[0:5])}\")\n",
    "\n",
    "factors = [f\"{x!r}f\" for x in p.coef]\n",
    "print(reduce(lambda acc, f: f\"{f} + ({acc}) * x\", reversed(factors)))"
   ]
  }
 ],
 "metadata": {
  "kernelspec": {
   "display_name": "env",
   "language": "python",
   "name": "python3"
  },
  "language_info": {
   "codemirror_mode": {
    "name": "ipython",
    "version": 3
   },
   "file_extension": ".py",
   "mimetype": "text/x-python",
   "name": "python",
   "nbconvert_exporter": "python",
   "pygments_lexer": "ipython3",
   "version": "3.11.4"
  },
  "orig_nbformat": 4
 },
 "nbformat": 4,
 "nbformat_minor": 2
}
