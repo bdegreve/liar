{
 "cells": [
  {
   "cell_type": "markdown",
   "metadata": {},
   "source": [
    "# Fourier BSDF by Wenzel Jakob\n",
    "\n",
    "W. Jakob, E. d'Eon, O. Jakob, S. Marschner, *A comprehensive framework for rendering layered materials*. ACM Trans. Graph. 33, 4, Article 118 (July 2014), 14 pages. https://doi.org/10.1145/2601097.2601139"
   ]
  },
  {
   "cell_type": "code",
   "execution_count": null,
   "metadata": {},
   "outputs": [],
   "source": [
    "from liar.shaders import Jakob\n",
    "\n",
    "# bsdf = Jakob(r\"D:\\coding\\pbrt-v3-scenes\\dragon\\bsdfs\\coated_copper.bsdf\")\n",
    "bsdf = Jakob(r\"D:\\coding\\pbrt-v3-scenes\\barcelona-pavilion\\bsdfs\\leather.bsdf\")\n",
    "\n",
    "# list the nodes\n",
    "print(bsdf.nodes)"
   ]
  },
  {
   "cell_type": "code",
   "execution_count": null,
   "metadata": {},
   "outputs": [],
   "source": [
    "import matplotlib.pyplot as plt\n",
    "import numpy as np\n",
    "\n",
    "\n",
    "def plot_a0(bsdf):\n",
    "    nodes = bsdf.nodes\n",
    "    max_neg = max(i for i in range(len(nodes)) if nodes[i] < 0)\n",
    "    min_pos = min(i for i in range(len(nodes)) if nodes[i] > 0)\n",
    "    assert min_pos == max_neg + 3, (\n",
    "        f\"{max_neg=}: {nodes[max_neg]=}, {min_pos=}: {nodes[min_pos]=}\"\n",
    "    )  # because of how the Jakob BSDF is defined\n",
    "    neg_indices = list(range(0, max_neg + 2))\n",
    "    pos_indices = list(range(min_pos - 1, len(nodes)))\n",
    "    neg_mu = np.array(nodes[: max_neg + 2])\n",
    "    pos_mu = np.array(nodes[min_pos - 1 :])\n",
    "    assert neg_mu[-1] == 0, neg_mu[-1]\n",
    "    assert pos_mu[0] == 0, pos_mu[0]\n",
    "\n",
    "    def plot_quadrant(mu_i, mu_o, index_i, index_o):\n",
    "        a0 = np.zeros((len(index_i), len(index_o)))\n",
    "        for i, ii in enumerate(index_i):\n",
    "            for o, oo in enumerate(index_o):\n",
    "                coeffs = bsdf.coefficients(ii, oo, 0)\n",
    "                a0[o, i] = (coeffs[0] if coeffs else 0) * abs(mu_i[i] * mu_o[o])\n",
    "        plt.pcolormesh(\n",
    "            mu_i, mu_o, a0, vmin=0, vmax=np.percentile(a0, 99), shading=\"nearest\"\n",
    "        )\n",
    "        plt.gca().invert_yaxis()\n",
    "        plt.colorbar()\n",
    "\n",
    "    fig = plt.figure(tight_layout=True)\n",
    "    fig.add_subplot(2, 2, 1)\n",
    "    plt.title(\"$Tˆ{bt}$\")\n",
    "    plot_quadrant(neg_mu, neg_mu, neg_indices, neg_indices)\n",
    "    fig.add_subplot(2, 2, 2)\n",
    "    plt.title(\"$Rˆ{t}$\")\n",
    "    plot_quadrant(pos_mu, neg_mu, pos_indices, neg_indices)\n",
    "    fig.add_subplot(2, 2, 3)\n",
    "    plt.title(\"$Rˆ{b}$\")\n",
    "    plot_quadrant(neg_mu, pos_mu, neg_indices, pos_indices)\n",
    "    fig.add_subplot(2, 2, 4)\n",
    "    plt.title(\"$Tˆ{tb}$\")\n",
    "    plot_quadrant(pos_mu, pos_mu, pos_indices, pos_indices)\n",
    "    plt.show()\n",
    "\n",
    "\n",
    "plot_a0(bsdf)"
   ]
  }
 ],
 "metadata": {
  "kernelspec": {
   "display_name": "env",
   "language": "python",
   "name": "python3"
  },
  "language_info": {
   "codemirror_mode": {
    "name": "ipython",
    "version": 3
   },
   "file_extension": ".py",
   "mimetype": "text/x-python",
   "name": "python",
   "nbconvert_exporter": "python",
   "pygments_lexer": "ipython3",
   "version": "3.11.4"
  },
  "orig_nbformat": 4
 },
 "nbformat": 4,
 "nbformat_minor": 2
}
