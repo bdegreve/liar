{
 "cells": [
  {
   "cell_type": "code",
   "execution_count": null,
   "metadata": {},
   "outputs": [],
   "source": [
    "import matplotlib.pyplot as plt\n",
    "import numpy as np\n",
    "\n",
    "import liar\n",
    "from liar.tools.spd import load_builtin_refractive_index\n",
    "\n",
    "n, k = load_builtin_refractive_index('Cu')\n",
    "ww = np.array(n.wavelengths)\n",
    "nn = np.array(n.values)\n",
    "kk = np.array(k.values)\n",
    "\n",
    "plt.plot(ww, nn, label='n')\n",
    "plt.plot(ww, kk, label='k')\n",
    "plt.xlabel('Wavelength')\n",
    "plt.ylabel('Value')\n",
    "plt.legend()\n",
    "plt.show()"
   ]
  },
  {
   "cell_type": "code",
   "execution_count": null,
   "metadata": {},
   "outputs": [],
   "source": [
    "def f0(n, k):\n",
    "    return (n * n + k * k - 2 * n + 1) / (n * n + k * k + 2 * n + 1)\n",
    "\n",
    "rr = f0(nn, kk)\n",
    "\n",
    "plt.plot(ww, rr, label='f0')\n",
    "plt.xlabel('Wavelength')\n",
    "plt.ylabel('Value')\n",
    "plt.legend()\n",
    "plt.show()"
   ]
  },
  {
   "cell_type": "code",
   "execution_count": null,
   "metadata": {},
   "outputs": [],
   "source": [
    "observer = liar.Observer.standard()\n",
    "\n",
    "ws = np.array(observer.wavelengths)\n",
    "xs, ys, zs = [np.array(ss) for ss in  zip(*observer.sensitivities)]\n",
    "\n",
    "plt.plot(ws, xs, label='X', color='red')\n",
    "plt.plot(ws, ys, label='Y', color='green')\n",
    "plt.plot(ws, zs, label='Z', color='blue')\n",
    "plt.xlabel('Wavelength')\n",
    "plt.ylabel('Sensitivity')\n",
    "plt.legend()\n",
    "plt.show()\n"
   ]
  },
  {
   "cell_type": "code",
   "execution_count": null,
   "metadata": {},
   "outputs": [],
   "source": [
    "ns = np.array(n.resample(ws).values)\n",
    "ks = np.array(k.resample(ws).values)\n",
    "\n",
    "rs = f0(ns, ks)\n",
    "plt.plot(ww, rr, label='rr')\n",
    "plt.plot(ws, rs, label='rs')\n",
    "plt.xlabel('Wavelength')\n",
    "plt.ylabel('Value')\n",
    "plt.legend()\n",
    "plt.show()"
   ]
  },
  {
   "cell_type": "code",
   "execution_count": null,
   "metadata": {},
   "outputs": [],
   "source": [
    "result = rs * np.array([xs, ys, zs])\n",
    "plt.plot(ws, result[0], label='X', color='red')\n",
    "plt.plot(ws, result[1], label='Y', color='green')\n",
    "plt.plot(ws, result[2], label='Z', color='blue')\n",
    "plt.xlabel('Wavelength')\n",
    "plt.ylabel('Value')\n",
    "plt.legend()\n",
    "plt.show()\n",
    "\n",
    "rx = np.sum(result[0]) / np.sum(xs)\n",
    "ry = np.sum(result[1]) / np.sum(ys)\n",
    "rz = np.sum(result[2]) / np.sum(zs)\n",
    "print(rx, ry, rz)\n",
    "\n",
    "print(f\"{observer.tristimulus(ww, rr)=}\")\n",
    "print(f\"{observer.tristimulus(rs)=}\")\n",
    "\n",
    "ny = observer.tristimulus(ww, nn)[1]\n",
    "ky = observer.tristimulus(ww, kk)[1]\n",
    "print(f\"{f0(ny, ky)=}\")\n"
   ]
  }
 ],
 "metadata": {
  "kernelspec": {
   "display_name": "env",
   "language": "python",
   "name": "python3"
  },
  "language_info": {
   "codemirror_mode": {
    "name": "ipython",
    "version": 3
   },
   "file_extension": ".py",
   "mimetype": "text/x-python",
   "name": "python",
   "nbconvert_exporter": "python",
   "pygments_lexer": "ipython3",
   "version": "3.11.4"
  }
 },
 "nbformat": 4,
 "nbformat_minor": 2
}
